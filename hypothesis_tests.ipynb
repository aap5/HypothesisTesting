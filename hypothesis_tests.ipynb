{
 "cells": [
  {
   "cell_type": "markdown",
   "metadata": {
    "id": "mzCm6thyNcs9"
   },
   "source": [
    "# Lab: Hypothesis Test\n",
    "\n",
    "## Group\n",
    "Enter the next Python cell to add information about who you’re working with within your lab section."
   ]
  },
  {
   "cell_type": "code",
   "execution_count": null,
   "metadata": {
    "id": "f5dUqIHhUDuU"
   },
   "outputs": [],
   "source": [
    "# First, meet your CAs and TA if you haven't already!\n",
    "# ...first name is enough, we'll know who they are! :)\n",
    "ta_name = \"\"\n",
    "ca1_name = \"\"\n",
    "ca2_name = \"\"\n",
    "ca3_name = \"\"\n",
    "\n",
    "#Also, make sure to meet your team for this lab! Find out their name, what major they're in,\n",
    "#and learn something new about them that you never knew before!\n",
    "\n",
    "partner1_name = \"\"\n",
    "partner1_netid = \"\"\n",
    "partner1_major = \"\"\n",
    " \n",
    "partner2_name = \"\"\n",
    "partner2_netid = \"\"\n",
    "partner2_major = \"\"\n",
    " \n",
    "partner3_name = \"\"\n",
    "partner3_netid = \"\"\n",
    "partner3_major = \"\""
   ]
  },
  {
   "cell_type": "markdown",
   "metadata": {},
   "source": [
    "## Table of Contents <a id='toc'></a>\n",
    "\n",
    "**Use the Outline view (View > Command Palette > Type \"outline\") for navigation.**\n",
    "\n",
    "* Puzzle 1\n",
    "    * Puzzle 1.1\n",
    "    * Puzzle 1.2a\n",
    "    * Puzzle 1.2b\n",
    "    * Puzzle 1.2c\n",
    "    * Puzzle 1.3a\n",
    "    * Puzzle 1.3b\n",
    "* Puzzle 2\n",
    "    * Puzzle 2.1\n",
    "    * Puzzle 2.2a\n",
    "    * Puzzle 2.2b\n",
    "    * Puzzle 2.2c\n",
    "    * Puzzle 2.3a\n",
    "    * Puzzle 2.3b\n",
    "    * Puzzle 2.4"
   ]
  },
  {
   "cell_type": "markdown",
   "metadata": {
    "id": "8YZjnX3nUCNc"
   },
   "source": [
    "In this lab, you will:\n",
    "\n",
    "- Perform hypothesis tests using Python.\n",
    "- Create confidence intervals using Python.\n",
    "- Interpret your results of the tests.\n",
    "\n",
    "As you go through the lab:\n",
    "\n",
    "- Make sure to run every cell with Python code and observe the output.\n",
    "- Complete all puzzles and submit this lab before Monday evening at 11:59 PM.\n",
    "\n",
    "# Setup\n",
    "\n",
    "\n",
    "At the beginning of this lab, make sure you:\n",
    "1. Make sure the following data sets are in **your working directory**. If not, download them from your personal GitHub repository.\n",
    "- `hello.csv`\n",
    "- `baseball.csv`\n",
    "2. Import the following libraries:\n",
    "- `pandas` as `pd`\n",
    "- `random`\n",
    "- `matplotlib.pyplot` as `plt`\n",
    "- `numpy` as `np`\n",
    "- `scipy.stats`\n",
    "- `from scipy import stats`\n",
    "3. Read the date sets into a data frame using `pd.read.csv()`"
   ]
  },
  {
   "cell_type": "code",
   "execution_count": 34,
   "metadata": {
    "id": "aRSg4TmdNctF"
   },
   "outputs": [],
   "source": [
    "# Import the libraries listed above.\n",
    "import pandas as pd\n",
    "import random\n",
    "import matplotlib.pyplot as plt\n",
    "import numpy as np\n",
    "import scipy.stats\n",
    "from scipy import stats\n",
    "hello = pd.read_csv(\"hello.csv\")\n",
    "baseball = pd.read_csv(\"baseball.csv\")\n"
   ]
  },
  {
   "cell_type": "markdown",
   "metadata": {
    "id": "OV1bhZXA7ABY"
   },
   "source": [
    "# ❓ Pre-Lab Individual Reflection ❓\n",
    "\n",
    "\n",
    "Before we start doing any data analysis, we must determine a crucial component of the hypothesis test. During lecture, we learned that there are two different kinds of tests a data scientist uses in hypothesis testing and confidence intervals. One is the Z-test, and the other is the t-test. Each one has its use in hypothesis testing and the creation of confidence intervals. When do you use a Z-test? When do you use a t-test?"
   ]
  },
  {
   "cell_type": "markdown",
   "metadata": {
    "id": "bNyGcmMANctD"
   },
   "source": [
    "***Double click this cell and type your answer here.***\n",
    "You use a t-test when n<=25 with an unkown SD and a z-test when n > 25 with a unknown SD."
   ]
  },
  {
   "cell_type": "markdown",
   "metadata": {
    "id": "_ItquHNyNctE"
   },
   "source": [
    "# Puzzle 1: Sleep Among STAT 107 Students\n",
    "\n",
    "## More Sleep Always! \n",
    "\n",
    "SLEEP! It's something that most of us do not get enough of. There has been extensive research done looking at the amount of sleep different people get on average. The following is an example of one of them. \n",
    "\n",
    "In 2013, [Gallup completed their latest survey on sleep](https://news.gallup.com/poll/166553/less-recommended-amount-sleep.aspx) that shows that the average amount of sleep Americans get is 6.8 hours ($\\mu$=6.8). This value seems a bit low, right? How do you think our class average in Data Science DISCOVERY compares to this? It might be less than 6.8, or it may be more than that. Let's find out if the ideal hours of sleep STAT107 students would get is significantly different from the average amount of sleep that all Americans get reported by Gallup. For the sake of this lab, assume our survey data is a random sample from the population (Americans).\n",
    "\n",
    "Run a **hypothesis test** to determine if the STAT107 data is significantly different from the population/Gallup poll. \n",
    "\n",
    "You need to look at the `hello.csv` data set that gives you the ideal amount of sleep STAT107 students get each week.\n",
    "\n",
    "As always, start with uploading the data set and import the relevant libraries to your notebook.\n"
   ]
  },
  {
   "cell_type": "code",
   "execution_count": 13,
   "metadata": {
    "id": "Mby9gBFjNctG"
   },
   "outputs": [
    {
     "data": {
      "text/html": [
       "<div>\n",
       "<style scoped>\n",
       "    .dataframe tbody tr th:only-of-type {\n",
       "        vertical-align: middle;\n",
       "    }\n",
       "\n",
       "    .dataframe tbody tr th {\n",
       "        vertical-align: top;\n",
       "    }\n",
       "\n",
       "    .dataframe thead th {\n",
       "        text-align: right;\n",
       "    }\n",
       "</style>\n",
       "<table border=\"1\" class=\"dataframe\">\n",
       "  <thead>\n",
       "    <tr style=\"text-align: right;\">\n",
       "      <th></th>\n",
       "      <th>Name</th>\n",
       "      <th>Major</th>\n",
       "      <th>Year</th>\n",
       "      <th>Phone</th>\n",
       "      <th>Computer</th>\n",
       "      <th>Straw</th>\n",
       "      <th>Shoe Size</th>\n",
       "      <th>Pets</th>\n",
       "      <th>Hot Dog</th>\n",
       "      <th>Streaming</th>\n",
       "      <th>...</th>\n",
       "      <th>Season</th>\n",
       "      <th>Statistics Courses</th>\n",
       "      <th>Programming Courses</th>\n",
       "      <th>Study Hours</th>\n",
       "      <th>Siblings</th>\n",
       "      <th>Sleep</th>\n",
       "      <th>Shoes</th>\n",
       "      <th>Texts</th>\n",
       "      <th>Personality</th>\n",
       "      <th>Zodiac Sign</th>\n",
       "    </tr>\n",
       "  </thead>\n",
       "  <tbody>\n",
       "    <tr>\n",
       "      <th>0</th>\n",
       "      <td>Mathilde</td>\n",
       "      <td>Community Health &amp; Chemistry</td>\n",
       "      <td>Senior</td>\n",
       "      <td>iPhone</td>\n",
       "      <td>Windows-based computer</td>\n",
       "      <td>1</td>\n",
       "      <td>9.0</td>\n",
       "      <td>0</td>\n",
       "      <td>Yes</td>\n",
       "      <td>Netflix</td>\n",
       "      <td>...</td>\n",
       "      <td>Fall</td>\n",
       "      <td>3</td>\n",
       "      <td>0</td>\n",
       "      <td>3.0</td>\n",
       "      <td>1</td>\n",
       "      <td>8.0</td>\n",
       "      <td>10</td>\n",
       "      <td>7</td>\n",
       "      <td>Introvert</td>\n",
       "      <td>Sagittarius</td>\n",
       "    </tr>\n",
       "    <tr>\n",
       "      <th>1</th>\n",
       "      <td>Luke</td>\n",
       "      <td>Stats &amp; CS</td>\n",
       "      <td>Sophomore</td>\n",
       "      <td>Android</td>\n",
       "      <td>Windows-based computer</td>\n",
       "      <td>1</td>\n",
       "      <td>9.5</td>\n",
       "      <td>0</td>\n",
       "      <td>No</td>\n",
       "      <td>Twitch, Youtube</td>\n",
       "      <td>...</td>\n",
       "      <td>Spring</td>\n",
       "      <td>4</td>\n",
       "      <td>2</td>\n",
       "      <td>4.0</td>\n",
       "      <td>1</td>\n",
       "      <td>6.5</td>\n",
       "      <td>4</td>\n",
       "      <td>15</td>\n",
       "      <td>Introvert</td>\n",
       "      <td>Gemini</td>\n",
       "    </tr>\n",
       "    <tr>\n",
       "      <th>2</th>\n",
       "      <td>Johnny</td>\n",
       "      <td>ETMAS</td>\n",
       "      <td>Junior</td>\n",
       "      <td>iPhone</td>\n",
       "      <td>Mac OS X-based computer</td>\n",
       "      <td>1</td>\n",
       "      <td>10.0</td>\n",
       "      <td>2</td>\n",
       "      <td>No</td>\n",
       "      <td>Netflix, Youtube</td>\n",
       "      <td>...</td>\n",
       "      <td>Fall</td>\n",
       "      <td>1</td>\n",
       "      <td>0</td>\n",
       "      <td>2.0</td>\n",
       "      <td>1</td>\n",
       "      <td>7.0</td>\n",
       "      <td>10</td>\n",
       "      <td>4</td>\n",
       "      <td>Introvert</td>\n",
       "      <td>Leo</td>\n",
       "    </tr>\n",
       "    <tr>\n",
       "      <th>3</th>\n",
       "      <td>miller</td>\n",
       "      <td>stat/data science</td>\n",
       "      <td>Freshman</td>\n",
       "      <td>iPhone</td>\n",
       "      <td>Mac OS X-based computer</td>\n",
       "      <td>1</td>\n",
       "      <td>10.0</td>\n",
       "      <td>2</td>\n",
       "      <td>No</td>\n",
       "      <td>Netflix, HBO Max</td>\n",
       "      <td>...</td>\n",
       "      <td>Summer</td>\n",
       "      <td>0</td>\n",
       "      <td>2</td>\n",
       "      <td>2.0</td>\n",
       "      <td>2</td>\n",
       "      <td>6.0</td>\n",
       "      <td>6</td>\n",
       "      <td>12</td>\n",
       "      <td>Extrovert</td>\n",
       "      <td>Sagittarius</td>\n",
       "    </tr>\n",
       "    <tr>\n",
       "      <th>4</th>\n",
       "      <td>Tri</td>\n",
       "      <td>CS+Math</td>\n",
       "      <td>Junior</td>\n",
       "      <td>Android</td>\n",
       "      <td>Windows-based computer</td>\n",
       "      <td>2</td>\n",
       "      <td>10.0</td>\n",
       "      <td>0</td>\n",
       "      <td>Yes</td>\n",
       "      <td>Twitch, Youtube</td>\n",
       "      <td>...</td>\n",
       "      <td>Fall</td>\n",
       "      <td>3</td>\n",
       "      <td>6</td>\n",
       "      <td>3.0</td>\n",
       "      <td>2</td>\n",
       "      <td>6.0</td>\n",
       "      <td>1</td>\n",
       "      <td>0</td>\n",
       "      <td>Introvert</td>\n",
       "      <td>Libra</td>\n",
       "    </tr>\n",
       "    <tr>\n",
       "      <th>...</th>\n",
       "      <td>...</td>\n",
       "      <td>...</td>\n",
       "      <td>...</td>\n",
       "      <td>...</td>\n",
       "      <td>...</td>\n",
       "      <td>...</td>\n",
       "      <td>...</td>\n",
       "      <td>...</td>\n",
       "      <td>...</td>\n",
       "      <td>...</td>\n",
       "      <td>...</td>\n",
       "      <td>...</td>\n",
       "      <td>...</td>\n",
       "      <td>...</td>\n",
       "      <td>...</td>\n",
       "      <td>...</td>\n",
       "      <td>...</td>\n",
       "      <td>...</td>\n",
       "      <td>...</td>\n",
       "      <td>...</td>\n",
       "      <td>...</td>\n",
       "    </tr>\n",
       "    <tr>\n",
       "      <th>187</th>\n",
       "      <td>Carson</td>\n",
       "      <td>Information Sciences</td>\n",
       "      <td>Freshman</td>\n",
       "      <td>iPhone</td>\n",
       "      <td>Windows-based computer</td>\n",
       "      <td>1</td>\n",
       "      <td>7.5</td>\n",
       "      <td>0</td>\n",
       "      <td>Yes</td>\n",
       "      <td>Twitch, Youtube</td>\n",
       "      <td>...</td>\n",
       "      <td>Fall</td>\n",
       "      <td>1</td>\n",
       "      <td>2</td>\n",
       "      <td>3.0</td>\n",
       "      <td>0</td>\n",
       "      <td>6.0</td>\n",
       "      <td>4</td>\n",
       "      <td>0</td>\n",
       "      <td>Introvert</td>\n",
       "      <td>Aries</td>\n",
       "    </tr>\n",
       "    <tr>\n",
       "      <th>188</th>\n",
       "      <td>Sri Nithya</td>\n",
       "      <td>Information Sciences</td>\n",
       "      <td>Freshman</td>\n",
       "      <td>iPhone</td>\n",
       "      <td>Windows-based computer</td>\n",
       "      <td>1</td>\n",
       "      <td>5.0</td>\n",
       "      <td>0</td>\n",
       "      <td>No</td>\n",
       "      <td>Netflix, HBO Max, Amazon Prime, Youtube</td>\n",
       "      <td>...</td>\n",
       "      <td>Fall</td>\n",
       "      <td>0</td>\n",
       "      <td>0</td>\n",
       "      <td>5.0</td>\n",
       "      <td>1</td>\n",
       "      <td>7.0</td>\n",
       "      <td>20</td>\n",
       "      <td>45</td>\n",
       "      <td>Extrovert</td>\n",
       "      <td>Virgo</td>\n",
       "    </tr>\n",
       "    <tr>\n",
       "      <th>189</th>\n",
       "      <td>brandon</td>\n",
       "      <td>information sciences</td>\n",
       "      <td>Senior</td>\n",
       "      <td>iPhone</td>\n",
       "      <td>Mac OS X-based computer</td>\n",
       "      <td>1</td>\n",
       "      <td>12.0</td>\n",
       "      <td>0</td>\n",
       "      <td>No</td>\n",
       "      <td>HBO Max, Youtube</td>\n",
       "      <td>...</td>\n",
       "      <td>Fall</td>\n",
       "      <td>2</td>\n",
       "      <td>2</td>\n",
       "      <td>0.0</td>\n",
       "      <td>1</td>\n",
       "      <td>8.0</td>\n",
       "      <td>12</td>\n",
       "      <td>0</td>\n",
       "      <td>Introvert</td>\n",
       "      <td>Virgo</td>\n",
       "    </tr>\n",
       "    <tr>\n",
       "      <th>190</th>\n",
       "      <td>Yujie</td>\n",
       "      <td>MCB</td>\n",
       "      <td>Freshman</td>\n",
       "      <td>iPhone</td>\n",
       "      <td>Windows-based computer</td>\n",
       "      <td>2</td>\n",
       "      <td>9.0</td>\n",
       "      <td>0</td>\n",
       "      <td>No</td>\n",
       "      <td>Youtube</td>\n",
       "      <td>...</td>\n",
       "      <td>Fall</td>\n",
       "      <td>2</td>\n",
       "      <td>0</td>\n",
       "      <td>6.0</td>\n",
       "      <td>4</td>\n",
       "      <td>7.0</td>\n",
       "      <td>5</td>\n",
       "      <td>6</td>\n",
       "      <td>Introvert</td>\n",
       "      <td>Scorpio</td>\n",
       "    </tr>\n",
       "    <tr>\n",
       "      <th>191</th>\n",
       "      <td>Shiuli</td>\n",
       "      <td>Psychology</td>\n",
       "      <td>Sophomore</td>\n",
       "      <td>Android</td>\n",
       "      <td>Windows-based computer</td>\n",
       "      <td>2</td>\n",
       "      <td>9.5</td>\n",
       "      <td>7</td>\n",
       "      <td>No</td>\n",
       "      <td>Netflix, Amazon Prime, Youtube</td>\n",
       "      <td>...</td>\n",
       "      <td>Fall</td>\n",
       "      <td>1</td>\n",
       "      <td>1</td>\n",
       "      <td>2.0</td>\n",
       "      <td>0</td>\n",
       "      <td>6.0</td>\n",
       "      <td>7</td>\n",
       "      <td>12</td>\n",
       "      <td>Introvert</td>\n",
       "      <td>Virgo</td>\n",
       "    </tr>\n",
       "  </tbody>\n",
       "</table>\n",
       "<p>192 rows × 21 columns</p>\n",
       "</div>"
      ],
      "text/plain": [
       "           Name                         Major       Year    Phone  \\\n",
       "0      Mathilde  Community Health & Chemistry     Senior   iPhone   \n",
       "1          Luke                    Stats & CS  Sophomore  Android   \n",
       "2        Johnny                         ETMAS     Junior   iPhone   \n",
       "3        miller             stat/data science   Freshman   iPhone   \n",
       "4           Tri                       CS+Math     Junior  Android   \n",
       "..          ...                           ...        ...      ...   \n",
       "187      Carson          Information Sciences   Freshman   iPhone   \n",
       "188  Sri Nithya          Information Sciences   Freshman   iPhone   \n",
       "189     brandon          information sciences     Senior   iPhone   \n",
       "190       Yujie                           MCB   Freshman   iPhone   \n",
       "191      Shiuli                    Psychology  Sophomore  Android   \n",
       "\n",
       "                    Computer  Straw  Shoe Size  Pets Hot Dog  \\\n",
       "0     Windows-based computer      1        9.0     0     Yes   \n",
       "1     Windows-based computer      1        9.5     0      No   \n",
       "2    Mac OS X-based computer      1       10.0     2      No   \n",
       "3    Mac OS X-based computer      1       10.0     2      No   \n",
       "4     Windows-based computer      2       10.0     0     Yes   \n",
       "..                       ...    ...        ...   ...     ...   \n",
       "187   Windows-based computer      1        7.5     0     Yes   \n",
       "188   Windows-based computer      1        5.0     0      No   \n",
       "189  Mac OS X-based computer      1       12.0     0      No   \n",
       "190   Windows-based computer      2        9.0     0      No   \n",
       "191   Windows-based computer      2        9.5     7      No   \n",
       "\n",
       "                                   Streaming  ...  Season Statistics Courses  \\\n",
       "0                                    Netflix  ...    Fall                  3   \n",
       "1                            Twitch, Youtube  ...  Spring                  4   \n",
       "2                           Netflix, Youtube  ...    Fall                  1   \n",
       "3                           Netflix, HBO Max  ...  Summer                  0   \n",
       "4                            Twitch, Youtube  ...    Fall                  3   \n",
       "..                                       ...  ...     ...                ...   \n",
       "187                          Twitch, Youtube  ...    Fall                  1   \n",
       "188  Netflix, HBO Max, Amazon Prime, Youtube  ...    Fall                  0   \n",
       "189                         HBO Max, Youtube  ...    Fall                  2   \n",
       "190                                  Youtube  ...    Fall                  2   \n",
       "191           Netflix, Amazon Prime, Youtube  ...    Fall                  1   \n",
       "\n",
       "     Programming Courses  Study Hours  Siblings  Sleep  Shoes  Texts  \\\n",
       "0                      0          3.0         1    8.0     10      7   \n",
       "1                      2          4.0         1    6.5      4     15   \n",
       "2                      0          2.0         1    7.0     10      4   \n",
       "3                      2          2.0         2    6.0      6     12   \n",
       "4                      6          3.0         2    6.0      1      0   \n",
       "..                   ...          ...       ...    ...    ...    ...   \n",
       "187                    2          3.0         0    6.0      4      0   \n",
       "188                    0          5.0         1    7.0     20     45   \n",
       "189                    2          0.0         1    8.0     12      0   \n",
       "190                    0          6.0         4    7.0      5      6   \n",
       "191                    1          2.0         0    6.0      7     12   \n",
       "\n",
       "     Personality  Zodiac Sign  \n",
       "0      Introvert  Sagittarius  \n",
       "1      Introvert       Gemini  \n",
       "2      Introvert          Leo  \n",
       "3      Extrovert  Sagittarius  \n",
       "4      Introvert        Libra  \n",
       "..           ...          ...  \n",
       "187    Introvert        Aries  \n",
       "188    Extrovert        Virgo  \n",
       "189    Introvert        Virgo  \n",
       "190    Introvert      Scorpio  \n",
       "191    Introvert        Virgo  \n",
       "\n",
       "[192 rows x 21 columns]"
      ]
     },
     "execution_count": 13,
     "metadata": {},
     "output_type": "execute_result"
    }
   ],
   "source": [
    "#Import the hello data set.\n",
    "hello"
   ]
  },
  {
   "cell_type": "code",
   "execution_count": 14,
   "metadata": {
    "id": "6pi0qF6QNctH"
   },
   "outputs": [
    {
     "name": "stdout",
     "output_type": "stream",
     "text": [
      "🎉 All tests passed! 🎉\n",
      "\n"
     ]
    }
   ],
   "source": [
    "#TEST CASE\n",
    "## == TEST CASES for Puzzle 1 Data ==\n",
    "# - This read-only cell contains test cases for your previous cell.\n",
    "# - If this cell runs without any error our output, you PASSED all test cases!\n",
    "# - If this cell results in any errors, check you previous cell, make changes, and RE-RUN your code and then this cell.\n",
    "\n",
    "assert(len(hello) == 192), \"The dataframe does not appear to have correct dataset loaded.\"\n",
    "\n",
    "## == SUCCESS MESSAGE ==\n",
    "# You will only see this message (with the emoji showing) if you passed all test cases:\n",
    "tada = \"\\N{PARTY POPPER}\"\n",
    "print(f\"{tada} All tests passed! {tada}\")\n",
    "print()"
   ]
  },
  {
   "cell_type": "markdown",
   "metadata": {
    "id": "fJGEOWXYNctI",
    "nbgrader": {
     "grade": false,
     "grade_id": "cell-4d373d1867848202",
     "locked": true,
     "schema_version": 3,
     "solution": false
    }
   },
   "source": [
    "## Puzzle 1.1: Null and Alternative Hypothesis\n",
    "\n",
    "In class, we learned that the first step when doing any hypothesis test is to state the **Null Hypothesis** and **Alternative Hypothesis**. \n",
    "\n",
    "**Null Hypothesis:** The null hypothesis says that any difference between our sample and the population is small and therefore due to chance.\n",
    "\n",
    "**Alternative Hypothesis:** The alternative hypothesis says that the differences we observe are not just due to chance. \n",
    "\n",
    "Remember, when you are stating your hypotheses, they always include the **population parameter** $\\mu$. Do not use the sample parameter $\\bar{x}$.\n",
    "\n",
    "To type $\\mu$ in Markdown, type, `$\\mu$`.\n",
    "\n",
    "To type $\\neq$ in Markdown, type, `$\\neq$`\n",
    "\n",
    "### ❓ State Your Two Hypotheses❓"
   ]
  },
  {
   "cell_type": "markdown",
   "metadata": {
    "id": "NonqCY0DNctI"
   },
   "source": [
    "### **Null Hypothesis**\n",
    "\n",
    "$H_0$: = 6.8\n",
    "\n",
    "\n",
    "### **Alternative Hypothesis**\n",
    "\n",
    "$H_a$: != 6.8\n"
   ]
  },
  {
   "cell_type": "markdown",
   "metadata": {
    "id": "H0V7Lq_YNctK"
   },
   "source": [
    "## Puzzle 1.2: Doing the Hypothesis Test\n",
    "\n",
    "\n",
    "Now that we have stated our null and alternate hypotheses, it is time to see which one is supported by our data. Before we can go and do any coding, we need to look at some summary statistics about our data. These will not necessarily tell us which of our hypotheses is supported by the data but will be crucial when performing the test and constructing the confidence interval.\n",
    "\n",
    "### Puzzle 1.2a: Summary Statistics\n",
    "\n",
    "\n",
    "Calculate the sample mean $\\bar{x}$, standard deviation $\\hat{\\sigma}$, and the sample size $n$ for the hours of sleep for STAT107 students in the `hello.csv` data set. Have the cell print out all three values."
   ]
  },
  {
   "cell_type": "code",
   "execution_count": 32,
   "metadata": {
    "id": "7ghq6OuNNctL"
   },
   "outputs": [
    {
     "name": "stdout",
     "output_type": "stream",
     "text": [
      "The average amount of sleep that students get is 7.10515625 hours.\n",
      "The standard deviation of sleep that students get is 1.0500635615578318 hours.\n",
      "The sample size is 192 students.\n"
     ]
    }
   ],
   "source": [
    "hrs_sleep_mean = hello[\"Sleep\"].mean()\n",
    "hrs_sleep_std = hello[\"Sleep\"].std()\n",
    "sample_size = len(hello[\"Sleep\"])\n",
    "print(\"The average amount of sleep that students get is \" + str(hrs_sleep_mean) + \" hours.\")\n",
    "print(\"The standard deviation of sleep that students get is \" + str(hrs_sleep_std) + \" hours.\")\n",
    "print(\"The sample size is \" + str(sample_size) + \" students.\")"
   ]
  },
  {
   "cell_type": "code",
   "execution_count": 33,
   "metadata": {
    "id": "t1SgmIVfNctL"
   },
   "outputs": [
    {
     "name": "stdout",
     "output_type": "stream",
     "text": [
      "🎉 All tests passed! 🎉\n",
      "\n"
     ]
    }
   ],
   "source": [
    "#TEST CASE\n",
    "### == TEST CASES for Puzzle 1.2a ==\n",
    "# - This read-only cell contains test cases for your previous cell.\n",
    "# - If this cell runs without any error our output, you PASSED all test cases!\n",
    "# - If this cell results in any errors, check you previous cell, make changes, and RE-RUN your code and then this cell.\n",
    "\n",
    "import math\n",
    "assert(math.isclose(hrs_sleep_mean, 7.10515625, abs_tol= 0.05)), \"The mean does not appear to seem correct. Make sure you are taking the mean of the correct variable.\"\n",
    "assert(math.isclose(hrs_sleep_std, 1.0500635615578318, abs_tol= 0.05)), \"The standard deviation does not appear to seem correct. Make sure you are taking the std of the correct variable.\"\n",
    "assert(math.isclose(sample_size, 192)), \"The sample size does not appear to seem correct. Make sure you are taking the sample size of the correct dataframe.\"\n",
    "\n",
    "## == SUCCESS MESSAGE ==\n",
    "# You will only see this message (with the emoji showing) if you passed all test cases:\n",
    "tada = \"\\N{PARTY POPPER}\"\n",
    "print(f\"{tada} All tests passed! {tada}\")\n",
    "print()"
   ]
  },
  {
   "cell_type": "markdown",
   "metadata": {
    "id": "oYUecsDDNctL"
   },
   "source": [
    "### Puzzle 1.2b: Z-Test Statistic, Z-Critical Value, and p-value\n",
    "\n",
    "\n",
    "Calculate the Z-test statistic, Z-critical value, and p-value. This will tell us whether we will reject or fail to reject our null hypothesis.\n",
    "\n",
    "**Hint:** Remember to use $1-\\frac{\\alpha}{2}$, where $\\alpha = 0.05$, when calculating the Z-Critical Value."
   ]
  },
  {
   "cell_type": "code",
   "execution_count": 53,
   "metadata": {
    "id": "IaXSY_faNctM"
   },
   "outputs": [
    {
     "name": "stdout",
     "output_type": "stream",
     "text": [
      "The Z-test statistic is 4.026774367548276.\n",
      "The Z-critical value is 1.959963984540054.\n",
      "The p-value for the hypothesis test is 5.654724774672992e-05.\n"
     ]
    }
   ],
   "source": [
    "from scipy.stats import norm\n",
    "SE = (hrs_sleep_std/(sample_size)**.5)\n",
    "z_stat = (hrs_sleep_mean - 6.8)/ (hrs_sleep_std/(sample_size)**.5)\n",
    "critical_value = norm.ppf(1-.05/2)\n",
    "p_value = 2*(1-norm.cdf((z_stat)))\n",
    "print(\"The Z-test statistic is \" + str(z_stat) + \".\")\n",
    "print(\"The Z-critical value is \" + str(critical_value) + \".\")\n",
    "print(\"The p-value for the hypothesis test is \" + str(p_value) + \".\")"
   ]
  },
  {
   "cell_type": "code",
   "execution_count": 52,
   "metadata": {
    "id": "hCwgBzueNctM"
   },
   "outputs": [
    {
     "name": "stdout",
     "output_type": "stream",
     "text": [
      "🎉 All tests passed! 🎉\n"
     ]
    }
   ],
   "source": [
    "#TEST CASE\n",
    "### == TEST CASES for Puzzle 1.2b ==\n",
    "# - This read-only cell contains test cases for your previous cell.\n",
    "# - If this cell runs without any error our output, you PASSED all test cases!\n",
    "# - If this cell results in any errors, check you previous cell, make changes, and RE-RUN your code and then this cell.\n",
    "\n",
    "import math\n",
    "assert(math.isclose(z_stat, 4.026774367548276, abs_tol= 0.05)), \"You z statistic does not seem correct. Make sure you are using the correct formula\"\n",
    "assert(math.isclose(critical_value, 1.959963984540054, abs_tol= 0.05)), \"Your critical value does not seem to be correct. Did you use α instead of α/2?\"\n",
    "assert(math.isclose(p_value, 5.654724774672992e-05, abs_tol= 0.0000001)), \"Your p_value does not seem to be correct. Make sure you are inputing the right values.\"\n",
    "\n",
    "## == SUCCESS MESSAGE ==\n",
    "# You will only see this message (with the emoji showing) if you passed all test cases:\n",
    "tada = \"\\N{PARTY POPPER}\"\n",
    "print(f\"{tada} All tests passed! {tada}\")"
   ]
  },
  {
   "cell_type": "markdown",
   "metadata": {
    "id": "nYZ_glZCNctN"
   },
   "source": [
    "### Puzzle 1.2c: Confidence Interval\n",
    "\n",
    "\n",
    "You now know whether you reject or fail to reject your null hypothesis now. However, we can still get some more information by creating a confidence interval around the sample mean. For this part, construct a 95% confidence interval for the sample mean of the hours of sleep for STAT107 students. You can do this one of two ways. You may use Python code and or the following formula. Remember to have the cell print the confidence interval.\n",
    "\n",
    "**$(\\bar{x} - Z_{\\frac{\\alpha}{2}}(\\frac{\\hat{\\sigma}}{\\sqrt{n}}) , \\bar{x} + Z_{\\frac{\\alpha}{2}}(\\frac{\\hat{\\sigma}}{\\sqrt{n}}))$** or **$(\\bar{x} - Z_{\\frac{\\alpha}{2}}(SE) , \\bar{x} + Z_{\\frac{\\alpha}{2}}(SE))$**\n",
    "\n",
    "Where $Z_{\\frac{\\alpha}{2}}$ is the Z-critical value that you calculated in Puzzle 1.2b."
   ]
  },
  {
   "cell_type": "code",
   "execution_count": 54,
   "metadata": {
    "id": "k3ou-JM8NctN"
   },
   "outputs": [
    {
     "name": "stdout",
     "output_type": "stream",
     "text": [
      "The 95% CI is:(6.956626631733493, 7.2536858682665075).\n"
     ]
    }
   ],
   "source": [
    "lower_bound = hrs_sleep_mean - critical_value*(SE)\n",
    "upper_bound = hrs_sleep_mean + critical_value*(SE)\n",
    "print(\"The 95% CI is:(\" + str(lower_bound) + \", \" + str(upper_bound) + \").\")"
   ]
  },
  {
   "cell_type": "code",
   "execution_count": 55,
   "metadata": {
    "id": "5WMmUad_NctN"
   },
   "outputs": [
    {
     "name": "stdout",
     "output_type": "stream",
     "text": [
      "🎉 All tests passed! 🎉\n"
     ]
    }
   ],
   "source": [
    "#TEST CASE\n",
    "### == TEST CASES for Puzzle 1.2c ==\n",
    "# - This read-only cell contains test cases for your previous cell.\n",
    "# - If this cell runs without any error our output, you PASSED all test cases!\n",
    "# - If this cell results in any errors, check you previous cell, make changes, and RE-RUN your code and then this cell.\n",
    "\n",
    "import math\n",
    "assert(math.isclose(lower_bound, 6.956626631733493, abs_tol= 0.05)), \"Your lower bound does not seem correct. Make sure your formula is correct.\"\n",
    "assert(math.isclose(upper_bound, 7.2536858682665075, abs_tol= 0.05)), \"Your upper bound does not seem to be correct. Make sure your formula is correct.\"\n",
    "\n",
    "## == SUCCESS MESSAGE ==\n",
    "# You will only see this message (with the emoji showing) if you passed all test cases:\n",
    "tada = \"\\N{PARTY POPPER}\"\n",
    "print(f\"{tada} All tests passed! {tada}\")"
   ]
  },
  {
   "cell_type": "markdown",
   "metadata": {
    "id": "88UhZBVfNctN"
   },
   "source": [
    "## Puzzle 1.3: Interpretation\n",
    "\n",
    "\n",
    "As a data scientist, it is crucial to explain your results, so anyone (even someone who has no background in statistics) can understand. If we just said, \"Here is the p-value.\", they may be confused. We need to be more specific about our conclusion.\n",
    "\n",
    "### Puzzle 1.3a: The Result\n",
    "\n",
    "In the following cell, delete the statements you do not believe are correct and keep the one you think is."
   ]
  },
  {
   "cell_type": "code",
   "execution_count": 60,
   "metadata": {
    "id": "eQXF1MDaNctO"
   },
   "outputs": [],
   "source": [
    "# Remove two of the following lines to leave only the correct answer:\n",
    "Conclusion = \"There is enough evidence to reject the null hypothesis. Thus, we reject the null hypothesis.\""
   ]
  },
  {
   "cell_type": "code",
   "execution_count": 61,
   "metadata": {
    "id": "ya2meWoYNctO"
   },
   "outputs": [
    {
     "name": "stdout",
     "output_type": "stream",
     "text": [
      "🎉 All tests passed! 🎉\n"
     ]
    }
   ],
   "source": [
    "#TEST CASE\n",
    "### == TEST CASES for Puzzle 1.3a ==\n",
    "# - This read-only cell contains test cases for your previous cell.\n",
    "# - If this cell runs without any error our output, you PASSED all test cases!\n",
    "# - If this cell results in any errors, check you previous cell, make changes, and RE-RUN your code and then this cell.\n",
    "assert(Conclusion.split()[2][3::-1] == \"uone\"), \"Your conclusion does not seem correct. Think about it some more!\"\n",
    "\n",
    "## == SUCCESS MESSAGE ==\n",
    "# You will only see this message (with the emoji showing) if you passed all test cases:\n",
    "tada = \"\\N{PARTY POPPER}\"\n",
    "print(f\"{tada} All tests passed! {tada}\")"
   ]
  },
  {
   "cell_type": "markdown",
   "metadata": {
    "id": "16qdo0iZNctP"
   },
   "source": [
    "### Puzzle 1.3b: ❓Individual Reflection ❓\n",
    "\n",
    "We have now done our hypothesis test and discovered the result, but there is still one more crucial thing to do. We must be able to explain the results of the test to somebody who does not know statistics. In the future, your occupation will require this as a skill. With your group, discuss the results of what your hypothesis test means, and interpret its practical significance if there is any. Use **NON-STATISTICAL** terminology here."
   ]
  },
  {
   "cell_type": "markdown",
   "metadata": {
    "id": "RDgWExSkNctP"
   },
   "source": [
    "***Double click this cell and type your response here.***\n",
    "We reject the idea that the average hours of sleep is 6.8 hours per night."
   ]
  },
  {
   "cell_type": "markdown",
   "metadata": {
    "id": "e4Jvl4PAfI-T"
   },
   "source": [
    "# Puzzle 2: Baseball Analysis\n",
    "\n",
    "\n",
    "Over the summer, you get an internship for a high school summer baseball league. In this league, there are four different levels for each age group. The levels (in descending order) are the Invite, the Elite, the Select, and the Enlist. As you start the last few days of your internship, your supervisor asks to see you. He asks a favor of you before you leave. Each year, the winner of each level below Invite may petition the league to move up to the next highest level for next summer. All of the petitions but one have been approved or denied. Their statistics intern left already and forgot to look over the last petition. They are on a family vacation before the semester starts, so your supervisor cannot get ahold of them. You had once mentioned you took a statistics course, so your supervisor asks for help. He has gone through the petition. However, before making the final decision, he wants to know if the team’s batting average is statistically different from the Select’s overall. He knows a hypothesis test is required, but does not remember how to perform it. Fortunately, you still have VS Code and Python installed on your laptop."
   ]
  },
  {
   "cell_type": "code",
   "execution_count": 62,
   "metadata": {
    "id": "qDrsUmYPfM0q"
   },
   "outputs": [
    {
     "data": {
      "text/html": [
       "<div>\n",
       "<style scoped>\n",
       "    .dataframe tbody tr th:only-of-type {\n",
       "        vertical-align: middle;\n",
       "    }\n",
       "\n",
       "    .dataframe tbody tr th {\n",
       "        vertical-align: top;\n",
       "    }\n",
       "\n",
       "    .dataframe thead th {\n",
       "        text-align: right;\n",
       "    }\n",
       "</style>\n",
       "<table border=\"1\" class=\"dataframe\">\n",
       "  <thead>\n",
       "    <tr style=\"text-align: right;\">\n",
       "      <th></th>\n",
       "      <th>Unnamed: 0</th>\n",
       "      <th>Number</th>\n",
       "      <th>GP</th>\n",
       "      <th>PA</th>\n",
       "      <th>AB</th>\n",
       "      <th>H</th>\n",
       "      <th>H_1B</th>\n",
       "      <th>H_2B</th>\n",
       "      <th>H_3B</th>\n",
       "      <th>HR</th>\n",
       "      <th>...</th>\n",
       "      <th>DP</th>\n",
       "      <th>TP</th>\n",
       "      <th>FPCT</th>\n",
       "      <th>cINN</th>\n",
       "      <th>cPB</th>\n",
       "      <th>cSB</th>\n",
       "      <th>cCS</th>\n",
       "      <th>cCSprct</th>\n",
       "      <th>cPIK</th>\n",
       "      <th>cCI</th>\n",
       "    </tr>\n",
       "  </thead>\n",
       "  <tbody>\n",
       "    <tr>\n",
       "      <th>0</th>\n",
       "      <td>1</td>\n",
       "      <td>1</td>\n",
       "      <td>29</td>\n",
       "      <td>93</td>\n",
       "      <td>71</td>\n",
       "      <td>20</td>\n",
       "      <td>12</td>\n",
       "      <td>7</td>\n",
       "      <td>1</td>\n",
       "      <td>0</td>\n",
       "      <td>...</td>\n",
       "      <td>1</td>\n",
       "      <td>0</td>\n",
       "      <td>0.957</td>\n",
       "      <td>134.1</td>\n",
       "      <td>2</td>\n",
       "      <td>20</td>\n",
       "      <td>5</td>\n",
       "      <td>0.200</td>\n",
       "      <td>3</td>\n",
       "      <td>0</td>\n",
       "    </tr>\n",
       "    <tr>\n",
       "      <th>1</th>\n",
       "      <td>2</td>\n",
       "      <td>3</td>\n",
       "      <td>29</td>\n",
       "      <td>96</td>\n",
       "      <td>73</td>\n",
       "      <td>29</td>\n",
       "      <td>27</td>\n",
       "      <td>2</td>\n",
       "      <td>0</td>\n",
       "      <td>0</td>\n",
       "      <td>...</td>\n",
       "      <td>3</td>\n",
       "      <td>0</td>\n",
       "      <td>0.938</td>\n",
       "      <td>0.0</td>\n",
       "      <td>0</td>\n",
       "      <td>0</td>\n",
       "      <td>0</td>\n",
       "      <td>0.000</td>\n",
       "      <td>0</td>\n",
       "      <td>0</td>\n",
       "    </tr>\n",
       "    <tr>\n",
       "      <th>2</th>\n",
       "      <td>3</td>\n",
       "      <td>4</td>\n",
       "      <td>29</td>\n",
       "      <td>84</td>\n",
       "      <td>77</td>\n",
       "      <td>30</td>\n",
       "      <td>25</td>\n",
       "      <td>5</td>\n",
       "      <td>0</td>\n",
       "      <td>0</td>\n",
       "      <td>...</td>\n",
       "      <td>1</td>\n",
       "      <td>0</td>\n",
       "      <td>0.909</td>\n",
       "      <td>0.0</td>\n",
       "      <td>0</td>\n",
       "      <td>0</td>\n",
       "      <td>0</td>\n",
       "      <td>0.000</td>\n",
       "      <td>0</td>\n",
       "      <td>0</td>\n",
       "    </tr>\n",
       "    <tr>\n",
       "      <th>3</th>\n",
       "      <td>4</td>\n",
       "      <td>9</td>\n",
       "      <td>29</td>\n",
       "      <td>98</td>\n",
       "      <td>74</td>\n",
       "      <td>22</td>\n",
       "      <td>16</td>\n",
       "      <td>4</td>\n",
       "      <td>2</td>\n",
       "      <td>0</td>\n",
       "      <td>...</td>\n",
       "      <td>0</td>\n",
       "      <td>0</td>\n",
       "      <td>0.941</td>\n",
       "      <td>0.0</td>\n",
       "      <td>0</td>\n",
       "      <td>0</td>\n",
       "      <td>0</td>\n",
       "      <td>0.000</td>\n",
       "      <td>0</td>\n",
       "      <td>0</td>\n",
       "    </tr>\n",
       "    <tr>\n",
       "      <th>4</th>\n",
       "      <td>5</td>\n",
       "      <td>17</td>\n",
       "      <td>21</td>\n",
       "      <td>39</td>\n",
       "      <td>22</td>\n",
       "      <td>4</td>\n",
       "      <td>3</td>\n",
       "      <td>1</td>\n",
       "      <td>0</td>\n",
       "      <td>0</td>\n",
       "      <td>...</td>\n",
       "      <td>0</td>\n",
       "      <td>0</td>\n",
       "      <td>0.915</td>\n",
       "      <td>41.2</td>\n",
       "      <td>5</td>\n",
       "      <td>11</td>\n",
       "      <td>1</td>\n",
       "      <td>0.083</td>\n",
       "      <td>0</td>\n",
       "      <td>0</td>\n",
       "    </tr>\n",
       "    <tr>\n",
       "      <th>5</th>\n",
       "      <td>6</td>\n",
       "      <td>21</td>\n",
       "      <td>29</td>\n",
       "      <td>77</td>\n",
       "      <td>56</td>\n",
       "      <td>17</td>\n",
       "      <td>16</td>\n",
       "      <td>1</td>\n",
       "      <td>0</td>\n",
       "      <td>0</td>\n",
       "      <td>...</td>\n",
       "      <td>2</td>\n",
       "      <td>0</td>\n",
       "      <td>0.939</td>\n",
       "      <td>0.0</td>\n",
       "      <td>0</td>\n",
       "      <td>0</td>\n",
       "      <td>0</td>\n",
       "      <td>0.000</td>\n",
       "      <td>0</td>\n",
       "      <td>0</td>\n",
       "    </tr>\n",
       "    <tr>\n",
       "      <th>6</th>\n",
       "      <td>7</td>\n",
       "      <td>22</td>\n",
       "      <td>27</td>\n",
       "      <td>35</td>\n",
       "      <td>25</td>\n",
       "      <td>2</td>\n",
       "      <td>2</td>\n",
       "      <td>0</td>\n",
       "      <td>0</td>\n",
       "      <td>0</td>\n",
       "      <td>...</td>\n",
       "      <td>0</td>\n",
       "      <td>0</td>\n",
       "      <td>0.938</td>\n",
       "      <td>4.0</td>\n",
       "      <td>3</td>\n",
       "      <td>2</td>\n",
       "      <td>0</td>\n",
       "      <td>0.000</td>\n",
       "      <td>0</td>\n",
       "      <td>0</td>\n",
       "    </tr>\n",
       "    <tr>\n",
       "      <th>7</th>\n",
       "      <td>8</td>\n",
       "      <td>23</td>\n",
       "      <td>27</td>\n",
       "      <td>76</td>\n",
       "      <td>63</td>\n",
       "      <td>20</td>\n",
       "      <td>13</td>\n",
       "      <td>4</td>\n",
       "      <td>3</td>\n",
       "      <td>0</td>\n",
       "      <td>...</td>\n",
       "      <td>2</td>\n",
       "      <td>0</td>\n",
       "      <td>0.886</td>\n",
       "      <td>0.0</td>\n",
       "      <td>0</td>\n",
       "      <td>0</td>\n",
       "      <td>0</td>\n",
       "      <td>0.000</td>\n",
       "      <td>0</td>\n",
       "      <td>0</td>\n",
       "    </tr>\n",
       "    <tr>\n",
       "      <th>8</th>\n",
       "      <td>9</td>\n",
       "      <td>24</td>\n",
       "      <td>27</td>\n",
       "      <td>68</td>\n",
       "      <td>53</td>\n",
       "      <td>9</td>\n",
       "      <td>7</td>\n",
       "      <td>1</td>\n",
       "      <td>1</td>\n",
       "      <td>0</td>\n",
       "      <td>...</td>\n",
       "      <td>0</td>\n",
       "      <td>0</td>\n",
       "      <td>1.000</td>\n",
       "      <td>0.0</td>\n",
       "      <td>0</td>\n",
       "      <td>0</td>\n",
       "      <td>0</td>\n",
       "      <td>0.000</td>\n",
       "      <td>0</td>\n",
       "      <td>0</td>\n",
       "    </tr>\n",
       "    <tr>\n",
       "      <th>9</th>\n",
       "      <td>10</td>\n",
       "      <td>27</td>\n",
       "      <td>1</td>\n",
       "      <td>1</td>\n",
       "      <td>0</td>\n",
       "      <td>0</td>\n",
       "      <td>0</td>\n",
       "      <td>0</td>\n",
       "      <td>0</td>\n",
       "      <td>0</td>\n",
       "      <td>...</td>\n",
       "      <td>0</td>\n",
       "      <td>0</td>\n",
       "      <td>0.000</td>\n",
       "      <td>0.0</td>\n",
       "      <td>0</td>\n",
       "      <td>0</td>\n",
       "      <td>0</td>\n",
       "      <td>0.000</td>\n",
       "      <td>0</td>\n",
       "      <td>0</td>\n",
       "    </tr>\n",
       "    <tr>\n",
       "      <th>10</th>\n",
       "      <td>11</td>\n",
       "      <td>27</td>\n",
       "      <td>25</td>\n",
       "      <td>68</td>\n",
       "      <td>55</td>\n",
       "      <td>15</td>\n",
       "      <td>8</td>\n",
       "      <td>7</td>\n",
       "      <td>0</td>\n",
       "      <td>0</td>\n",
       "      <td>...</td>\n",
       "      <td>2</td>\n",
       "      <td>0</td>\n",
       "      <td>0.871</td>\n",
       "      <td>0.0</td>\n",
       "      <td>0</td>\n",
       "      <td>0</td>\n",
       "      <td>0</td>\n",
       "      <td>0.000</td>\n",
       "      <td>0</td>\n",
       "      <td>0</td>\n",
       "    </tr>\n",
       "    <tr>\n",
       "      <th>11</th>\n",
       "      <td>12</td>\n",
       "      <td>29</td>\n",
       "      <td>25</td>\n",
       "      <td>62</td>\n",
       "      <td>54</td>\n",
       "      <td>13</td>\n",
       "      <td>13</td>\n",
       "      <td>0</td>\n",
       "      <td>0</td>\n",
       "      <td>0</td>\n",
       "      <td>...</td>\n",
       "      <td>5</td>\n",
       "      <td>0</td>\n",
       "      <td>0.901</td>\n",
       "      <td>0.0</td>\n",
       "      <td>0</td>\n",
       "      <td>0</td>\n",
       "      <td>0</td>\n",
       "      <td>0.000</td>\n",
       "      <td>0</td>\n",
       "      <td>0</td>\n",
       "    </tr>\n",
       "    <tr>\n",
       "      <th>12</th>\n",
       "      <td>13</td>\n",
       "      <td>32</td>\n",
       "      <td>29</td>\n",
       "      <td>91</td>\n",
       "      <td>71</td>\n",
       "      <td>18</td>\n",
       "      <td>17</td>\n",
       "      <td>1</td>\n",
       "      <td>0</td>\n",
       "      <td>0</td>\n",
       "      <td>...</td>\n",
       "      <td>2</td>\n",
       "      <td>0</td>\n",
       "      <td>0.926</td>\n",
       "      <td>0.0</td>\n",
       "      <td>0</td>\n",
       "      <td>0</td>\n",
       "      <td>0</td>\n",
       "      <td>0.000</td>\n",
       "      <td>0</td>\n",
       "      <td>0</td>\n",
       "    </tr>\n",
       "  </tbody>\n",
       "</table>\n",
       "<p>13 rows × 130 columns</p>\n",
       "</div>"
      ],
      "text/plain": [
       "    Unnamed: 0  Number  GP  PA  AB   H  H_1B  H_2B  H_3B  HR  ...  DP  TP  \\\n",
       "0            1       1  29  93  71  20    12     7     1   0  ...   1   0   \n",
       "1            2       3  29  96  73  29    27     2     0   0  ...   3   0   \n",
       "2            3       4  29  84  77  30    25     5     0   0  ...   1   0   \n",
       "3            4       9  29  98  74  22    16     4     2   0  ...   0   0   \n",
       "4            5      17  21  39  22   4     3     1     0   0  ...   0   0   \n",
       "5            6      21  29  77  56  17    16     1     0   0  ...   2   0   \n",
       "6            7      22  27  35  25   2     2     0     0   0  ...   0   0   \n",
       "7            8      23  27  76  63  20    13     4     3   0  ...   2   0   \n",
       "8            9      24  27  68  53   9     7     1     1   0  ...   0   0   \n",
       "9           10      27   1   1   0   0     0     0     0   0  ...   0   0   \n",
       "10          11      27  25  68  55  15     8     7     0   0  ...   2   0   \n",
       "11          12      29  25  62  54  13    13     0     0   0  ...   5   0   \n",
       "12          13      32  29  91  71  18    17     1     0   0  ...   2   0   \n",
       "\n",
       "     FPCT   cINN  cPB  cSB  cCS  cCSprct  cPIK  cCI  \n",
       "0   0.957  134.1    2   20    5    0.200     3    0  \n",
       "1   0.938    0.0    0    0    0    0.000     0    0  \n",
       "2   0.909    0.0    0    0    0    0.000     0    0  \n",
       "3   0.941    0.0    0    0    0    0.000     0    0  \n",
       "4   0.915   41.2    5   11    1    0.083     0    0  \n",
       "5   0.939    0.0    0    0    0    0.000     0    0  \n",
       "6   0.938    4.0    3    2    0    0.000     0    0  \n",
       "7   0.886    0.0    0    0    0    0.000     0    0  \n",
       "8   1.000    0.0    0    0    0    0.000     0    0  \n",
       "9   0.000    0.0    0    0    0    0.000     0    0  \n",
       "10  0.871    0.0    0    0    0    0.000     0    0  \n",
       "11  0.901    0.0    0    0    0    0.000     0    0  \n",
       "12  0.926    0.0    0    0    0    0.000     0    0  \n",
       "\n",
       "[13 rows x 130 columns]"
      ]
     },
     "execution_count": 62,
     "metadata": {},
     "output_type": "execute_result"
    }
   ],
   "source": [
    "#Import the Baseball Data Set\n",
    "bb = baseball\n",
    "bb"
   ]
  },
  {
   "cell_type": "code",
   "execution_count": 57,
   "metadata": {
    "id": "H8yfZUWdfSMF"
   },
   "outputs": [
    {
     "name": "stdout",
     "output_type": "stream",
     "text": [
      "🎉 All tests passed! 🎉\n",
      "\n"
     ]
    }
   ],
   "source": [
    "#TEST CASE\n",
    "## == TEST CASES for Puzzle 2 Data ==\n",
    "# - This read-only cell contains test cases for your previous cell.\n",
    "# - If this cell runs without any error our output, you PASSED all test cases!\n",
    "# - If this cell results in any errors, check you previous cell, make changes, and RE-RUN your code and then this cell.\n",
    "\n",
    "assert(len(bb) == 13), \"The dataframe does not appear to have correct dataset loaded.\"\n",
    "\n",
    "## == SUCCESS MESSAGE ==\n",
    "# You will only see this message (with the emoji showing) if you passed all test cases:\n",
    "tada = \"\\N{PARTY POPPER}\"\n",
    "print(f\"{tada} All tests passed! {tada}\")\n",
    "print()"
   ]
  },
  {
   "cell_type": "markdown",
   "metadata": {
    "id": "D3qQZNA_fUaW"
   },
   "source": [
    "## Puzzle 2.1: Null and Alternative Hypothesis\n",
    "\n",
    "❓Individual Reflection❓ State your Null and Alternative Hypothesis. Remember that when you are stating your hypotheses, they always include the **population parameters** such as $\\mu$, not sample parameters such as $\\bar{x}$.\n",
    "\n",
    "To type $\\mu$ in Markdown, type, `$\\mu$`.\n",
    "\n",
    "To type $\\neq$ in Markdown, type, `$\\neq$`\n",
    "\n",
    "**Hint:** The mean batting average for the Select teams over the summer was 0.212.\n",
    "\n",
    "### ❓ State Your Two Hypotheses❓"
   ]
  },
  {
   "cell_type": "markdown",
   "metadata": {
    "id": "IeIxWU6WfYKF"
   },
   "source": [
    "### Null Hypothesis\n",
    "\n",
    "$H_0$: = .212\n",
    "\n",
    "### Alternative Hypothesis\n",
    "\n",
    "$H_a$: != .212"
   ]
  },
  {
   "cell_type": "markdown",
   "metadata": {
    "id": "hHQvw_VPfcnc"
   },
   "source": [
    "## Puzzle 2.2: Doing the Hypothesis Test\n",
    "\n",
    "\n",
    "Once again, look at some summary statistics about our data.\n",
    "\n",
    "\n",
    "### Puzzle 2.2a: Summary Statistics\n",
    "\n",
    "\n",
    "Calculate the sample mean $\\bar{x}$, standard deviation $\\hat{\\sigma}$, sample size $n$, and the degrees of freedom $df$ for the team’s batting average last summer in the `baseball.csv` data set. Have the cell print out all four values.\n",
    "\n",
    "**NOTE 1:** You **CAN NOT** calculate the mean batting average for a team by adding up all the batting averages and dividing by n. To find the mean batting average $\\bar{x}$, use the formula below instead.\n",
    "\n",
    "**NOTE 2:** With the sample mean being calculated differently, the standard deviation will have to be manually calculated as well. If you use the standard deviation function in Python, it will use the incorrect sample mean instead. To find the standard deviation, use the formula below instead.\n",
    "\n",
    "**NOTE 3:** Because we have data for all players on the baseball team, we can calculate the population standard deviation $\\sigma$, so we will use $SD$ in the calculations instead of $SD^+$.\n",
    "\n",
    "**HINT 1:** \n",
    "### $\\bar{x} = \\frac{\\sum_{i=1}^{n} H_{i}}{\\sum_{i=1}^{n} AB_{i}}$\n",
    "\n",
    "Or, take the total number of hits (H) and divide it by the total number of at-bats (AB).\n",
    "\n",
    "\n",
    "**HINT 2:** \n",
    "\n",
    "### $SD = \\sqrt{\\frac{1}{n} \\sum_{i=1}^{n} (x_{i}-\\bar{x})^{2}}$\n",
    "\n",
    "Or, take the observed values and subtract the sample mean, square them, sum them all up, divide them by n (the sample size), and take the square root."
   ]
  },
  {
   "cell_type": "code",
   "execution_count": 76,
   "metadata": {
    "id": "I2159qURfgVt"
   },
   "outputs": [
    {
     "name": "stdout",
     "output_type": "stream",
     "text": [
      "The average batting average of the team is 0.28674351585014407 .\n",
      "The standard deviation of the batting average of the team is 0.11671062190092389 points.\n",
      "The sample size is 13 students.\n",
      "The degrees of freedom is 12.\n"
     ]
    }
   ],
   "source": [
    "#Python Code\n",
    "values = ['AVG']\n",
    "\n",
    "# use the formula above to find the sample mean\n",
    "bb_sample_mean = bb[\"H\"].sum()/bb[\"AB\"].sum()\n",
    "\n",
    "bb_sample_size = len(bb)\n",
    "bb_df = bb_sample_size-1\n",
    "\n",
    "# this creates a dataframe with the mean variance values\n",
    "bb_sample_var = bb[values] - bb_sample_mean\n",
    "bb_sample_var[\"square\"] = bb_sample_var[values]**2\n",
    "\n",
    "# use the formula above to find the sample SD\n",
    "bb_sample_std = ((1/bb_sample_size) * (bb_sample_var[\"square\"].sum()))**.5\n",
    "\n",
    "print(\"The average batting average of the team is \" + str(bb_sample_mean) + \" .\")\n",
    "print(\"The standard deviation of the batting average of the team is \" + str(bb_sample_std) + \" points.\")\n",
    "print(\"The sample size is \" + str(bb_sample_size) + \" students.\")\n",
    "print(\"The degrees of freedom is \" + str(bb_df) + \".\")\n"
   ]
  },
  {
   "cell_type": "code",
   "execution_count": 77,
   "metadata": {
    "id": "Yt_Ga6cofinV"
   },
   "outputs": [
    {
     "name": "stdout",
     "output_type": "stream",
     "text": [
      "🎉 All tests passed! 🎉\n",
      "\n"
     ]
    }
   ],
   "source": [
    "#TEST CASE\n",
    "### == TEST CASES for Puzzle 2.2a ==\n",
    "# - This read-only cell contains test cases for your previous cell.\n",
    "# - If this cell runs without any error our output, you PASSED all test cases!\n",
    "# - If this cell results in any errors, check you previous cell, make changes, and RE-RUN your code and then this cell.\n",
    "\n",
    "import math\n",
    "assert(math.isclose(bb_sample_mean, 0.28674351585014407, abs_tol= 0.05)), \"The mean does not appear to seem correct. Make sure you are taking the mean of the correct variable.\"\n",
    "assert(math.isclose(bb_sample_std, 0.11671062190092389, abs_tol= 0.05)), \"The standard deviation does not appear to seem correct. Make sure you are taking the std of the correct variable.\"\n",
    "assert(math.isclose(bb_sample_size, 13)), \"The sample size does not appear to seem correct. Make sure you are taking the sample size of the correct dataframe.\"\n",
    "assert(math.isclose(bb_df, 12)), \"The df does not appear to seem correct. Make sure you are taking the df of the correct dataframe.\"\n",
    "\n",
    "## == SUCCESS MESSAGE ==\n",
    "# You will only see this message (with the emoji showing) if you passed all test cases:\n",
    "tada = \"\\N{PARTY POPPER}\"\n",
    "print(f\"{tada} All tests passed! {tada}\")\n",
    "print()"
   ]
  },
  {
   "cell_type": "markdown",
   "metadata": {
    "id": "yyZqMV00fnBP"
   },
   "source": [
    "### Puzzle 2.2b: t-Test Statistic, t-Critical Value, and p-value\n",
    "\n",
    "Calculate the t-test statistic, t-critical value, and p-value.\n",
    "\n",
    "**Hint 1:** Remember to use the df that you calculated above instead of n when calculating the t-Critical Value and p-value.\n",
    "\n",
    "**Hint 2:** Remember to use $1-\\frac{\\alpha}{2}$, where $\\alpha = 0.05$, when calculating the t-Critical Value."
   ]
  },
  {
   "cell_type": "code",
   "execution_count": 100,
   "metadata": {
    "id": "rPQBSyh-fsxf"
   },
   "outputs": [
    {
     "name": "stdout",
     "output_type": "stream",
     "text": [
      "The t-test statistic is 2.309057860516949.\n",
      "The t-critical value is 2.1788128296634177.\n",
      "The p-value for the hypothesis test is 0.039543630181131384.\n"
     ]
    }
   ],
   "source": [
    "bb_t_stat = (bb_sample_mean - .212)/ (bb_sample_std/(bb_sample_size)**.5)\n",
    "bb_critical_value = scipy.stats.t.ppf(q = 1-.05/2, df = bb_df)\n",
    "bb_p_value = 2*(1 - scipy.stats.t.cdf(bb_t_stat, df= bb_df))\n",
    "print(\"The t-test statistic is \" + str(bb_t_stat) + \".\")\n",
    "print(\"The t-critical value is \" + str(bb_critical_value) + \".\")\n",
    "print(\"The p-value for the hypothesis test is \" + str(bb_p_value) + \".\")"
   ]
  },
  {
   "cell_type": "code",
   "execution_count": 101,
   "metadata": {
    "id": "qGos6vncfulS"
   },
   "outputs": [
    {
     "name": "stdout",
     "output_type": "stream",
     "text": [
      "🎉 All tests passed! 🎉\n"
     ]
    }
   ],
   "source": [
    "#TEST CASE\n",
    "### == TEST CASES for Puzzle 2.2b ==\n",
    "# - This read-only cell contains test cases for your previous cell.\n",
    "# - If this cell runs without any error our output, you PASSED all test cases!\n",
    "# - If this cell results in any errors, check you previous cell, make changes, and RE-RUN your code and then this cell.\n",
    "\n",
    "import math\n",
    "assert(math.isclose(bb_t_stat, 2.309057860516949, abs_tol= 0.05)), \"You t statistics does not seem correct. Make sure you are using the correct formula.\"\n",
    "assert(math.isclose(bb_critical_value, 2.1788128296634177, abs_tol= 0.05)), \"Your critical value does not seem to be correct. Did you use α instead of α/2?\"\n",
    "assert(math.isclose(bb_p_value, 0.03954363018113138, abs_tol= 0.005)), \"Your p_value does not seem to be correct. Make sure you are inputing the right values.\"\n",
    "\n",
    "## == SUCCESS MESSAGE ==\n",
    "# You will only see this message (with the emoji showing) if you passed all test cases:\n",
    "tada = \"\\N{PARTY POPPER}\"\n",
    "print(f\"{tada} All tests passed! {tada}\")"
   ]
  },
  {
   "cell_type": "markdown",
   "metadata": {
    "id": "KjTut-VRfwT_"
   },
   "source": [
    "### Puzzle 2.2c: Confidence Interval\n",
    "\n",
    "Construct a 95% confidence interval for the sample mean of the team’s batting average. Use the following formula since the Python code will not work. Remember to have the cell print the confidence interval.\n",
    "\n",
    "**$(\\bar{x} - t_{\\frac{\\alpha}{2}, df}(\\frac{\\hat{\\sigma}}{\\sqrt{n}}) , \\bar{x} + t_{\\frac{\\alpha}{2}, df}(\\frac{\\hat{\\sigma}}{\\sqrt{n}}))$** or **$(\\bar{x} - t_{\\frac{\\alpha}{2}, df}(SE) , \\bar{x} + t_{\\frac{\\alpha}{2}, df}(SE))$**\n",
    "\n",
    "Where $t_{\\frac{\\alpha}{2}, df}$ is the t-critical value that you calculated in Puzzle 2.2b."
   ]
  },
  {
   "cell_type": "code",
   "execution_count": 102,
   "metadata": {
    "id": "bZZ7RlbYf0qI"
   },
   "outputs": [
    {
     "name": "stdout",
     "output_type": "stream",
     "text": [
      "The 95% CI is:(0.21621599289236693, 0.3572710388079212).\n"
     ]
    }
   ],
   "source": [
    "lower_bound = bb_sample_mean - bb_critical_value * (bb_sample_std/(bb_sample_size)**.5)\n",
    "upper_bound = bb_sample_mean + bb_critical_value * (bb_sample_std/(bb_sample_size)**.5)\n",
    "print(\"The 95% CI is:(\" + str(lower_bound) + \", \" + str(upper_bound) + \").\")"
   ]
  },
  {
   "cell_type": "code",
   "execution_count": 103,
   "metadata": {
    "id": "PEq4MDTef17w"
   },
   "outputs": [
    {
     "name": "stdout",
     "output_type": "stream",
     "text": [
      "🎉 All tests passed! 🎉\n"
     ]
    }
   ],
   "source": [
    "#TEST CASE\n",
    "### == TEST CASES for Puzzle 2.2c ==\n",
    "# - This read-only cell contains test cases for your previous cell.\n",
    "# - If this cell runs without any error our output, you PASSED all test cases!\n",
    "# - If this cell results in any errors, check you previous cell, make changes, and RE-RUN your code and then this cell.\n",
    "\n",
    "assert(math.isclose(lower_bound, 0.21621599289236693, abs_tol= 0.05)), \"Your lower bound does not seem correct. Make sure your formula is correct.\"\n",
    "assert(math.isclose(upper_bound, 0.3572710388079212, abs_tol= 0.05)), \"Your upper bound does not seem to be correct. Make sure your formula is correct.\"\n",
    "\n",
    "## == SUCCESS MESSAGE ==\n",
    "# You will only see this message (with the emoji showing) if you passed all test cases:\n",
    "tada = \"\\N{PARTY POPPER}\"\n",
    "print(f\"{tada} All tests passed! {tada}\")"
   ]
  },
  {
   "cell_type": "markdown",
   "metadata": {
    "id": "4B71dOb9f8BJ"
   },
   "source": [
    "## Puzzle 2.3: Interpretation\n",
    "\n",
    "As with the last two puzzles, the interpretation of the results for the hypothesis test is important.\n",
    "\n",
    "### Puzzle 2.3a: The Result\n",
    "\n",
    "In the following cell, delete the statements that you do not believe are true and keep the one you believe is correct."
   ]
  },
  {
   "cell_type": "code",
   "execution_count": 104,
   "metadata": {
    "id": "XRbJC7gEf_0R"
   },
   "outputs": [],
   "source": [
    "# Remove two of the following lines to leave only the correct answer:\n",
    "\n",
    "Conclusion = \"There is enough evidence to reject the null hypothesis. Thus, we reject the null hypothesis.\"\n"
   ]
  },
  {
   "cell_type": "code",
   "execution_count": 105,
   "metadata": {
    "id": "sQVFhpZvgB6E"
   },
   "outputs": [
    {
     "name": "stdout",
     "output_type": "stream",
     "text": [
      "🎉 All tests passed! 🎉\n"
     ]
    }
   ],
   "source": [
    "#TEST CASE\n",
    "### == TEST CASES for Puzzle 3.3a ==\n",
    "# - This read-only cell contains test cases for your previous cell.\n",
    "# - If this cell runs without any error our output, you PASSED all test cases!\n",
    "# - If this cell results in any errors, check you previous cell, make changes, and RE-RUN your code and then this cell.\n",
    "assert(Conclusion.split()[2][3::-1] == \"uone\"), \"Your conclusion does not seem correct. Think about it some more!\"\n",
    "\n",
    "## == SUCCESS MESSAGE ==\n",
    "# You will only see this message (with the emoji showing) if you passed all test cases:\n",
    "tada = \"\\N{PARTY POPPER}\"\n",
    "print(f\"{tada} All tests passed! {tada}\")"
   ]
  },
  {
   "cell_type": "markdown",
   "metadata": {
    "id": "47G1bbVDgFIL"
   },
   "source": [
    "### Puzzle 2.3b: ❓ Individual Reflection ❓\n",
    "\n",
    "Now that you have completed your hypothesis test, what will you tell your supervisor? With your group, discuss the results of what your hypothesis test means, and interpret its practical significance if there is any. Use **NON-STATISTICAL** terminology here."
   ]
  },
  {
   "cell_type": "markdown",
   "metadata": {
    "id": "24ywIaGygHwq"
   },
   "source": [
    "***Double click this cell and type your response here.***\n",
    "The team's batting average is diffrent from the reported .212 population average reported. "
   ]
  },
  {
   "cell_type": "markdown",
   "metadata": {},
   "source": [
    "## Puzzle 2.4: ❓ Post-Lab Individual Reflection ❓\n",
    "\n",
    "We normally run a 95% confidence interval. This means the probability of us rejecting the null hypothesis when it is correct is 5%. However, many also feel that a 90% and even 80% confidence interval is sufficient. What significance level do you think is the minimum to use in a hypothesis test?"
   ]
  },
  {
   "cell_type": "markdown",
   "metadata": {},
   "source": [
    "***Double click this cell and type your response here.***\n",
    "I think the minimum signifnace level we can use for a hypothesis test is 66%."
   ]
  },
  {
   "cell_type": "markdown",
   "metadata": {
    "id": "lpUMQFZlNctU",
    "nbgrader": {
     "grade": false,
     "grade_id": "cell-f0fc4e80f147831d",
     "locked": true,
     "schema_version": 3,
     "solution": false,
     "task": false
    }
   },
   "source": [
    "# Submit Your Work!\n",
    "\n",
    "You're almost done -- congratulations!\n",
    "\n",
    "You need to do two more things:\n",
    "\n",
    "1. Save your work. To do this, go to File -> Save All\n",
    "2. After you have saved, exit this notebook and follow the webpage instructions to commit this lab to your Git repository!"
   ]
  }
 ],
 "metadata": {
  "celltoolbar": "Create Assignment",
  "colab": {
   "collapsed_sections": [
    "Nb_o8ioJNctR",
    "IeIxWU6WfYKF",
    "4B71dOb9f8BJ",
    "47G1bbVDgFIL"
   ],
   "name": "hypothesis-tests.ipynb",
   "provenance": []
  },
  "interpreter": {
   "hash": "2313bd6cf9748611fcec47748e00b602b8ac0478fdea3f4143d0c377f7c6ba75"
  },
  "kernelspec": {
   "display_name": "Python 3 (ipykernel)",
   "language": "python",
   "name": "python3"
  },
  "language_info": {
   "codemirror_mode": {
    "name": "ipython",
    "version": 3
   },
   "file_extension": ".py",
   "mimetype": "text/x-python",
   "name": "python",
   "nbconvert_exporter": "python",
   "pygments_lexer": "ipython3",
   "version": "3.8.3"
  }
 },
 "nbformat": 4,
 "nbformat_minor": 4
}
